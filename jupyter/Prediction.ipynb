{
 "cells": [
  {
   "cell_type": "code",
   "execution_count": 1,
   "id": "4709f28d",
   "metadata": {},
   "outputs": [],
   "source": [
    "import pandas as pd\n",
    "import seaborn as sns\n",
    "import matplotlib.pyplot as plt\n",
    "from IPython.display import clear_output"
   ]
  },
  {
   "cell_type": "code",
   "execution_count": 2,
   "id": "da848953",
   "metadata": {},
   "outputs": [],
   "source": [
    "#from pycaret.classification import *"
   ]
  },
  {
   "cell_type": "code",
   "execution_count": 3,
   "id": "f0417772",
   "metadata": {},
   "outputs": [],
   "source": [
    "df = pd.read_csv(\"..\\dataset\\Absenteeism_at_work.csv\", delimiter = \";\")"
   ]
  },
  {
   "cell_type": "code",
   "execution_count": 4,
   "id": "e6055c17",
   "metadata": {
    "scrolled": true
   },
   "outputs": [
    {
     "data": {
      "text/html": [
       "<div>\n",
       "<style scoped>\n",
       "    .dataframe tbody tr th:only-of-type {\n",
       "        vertical-align: middle;\n",
       "    }\n",
       "\n",
       "    .dataframe tbody tr th {\n",
       "        vertical-align: top;\n",
       "    }\n",
       "\n",
       "    .dataframe thead th {\n",
       "        text-align: right;\n",
       "    }\n",
       "</style>\n",
       "<table border=\"1\" class=\"dataframe\">\n",
       "  <thead>\n",
       "    <tr style=\"text-align: right;\">\n",
       "      <th></th>\n",
       "      <th>ID</th>\n",
       "      <th>Reason for absence</th>\n",
       "      <th>Month of absence</th>\n",
       "      <th>Day of the week</th>\n",
       "      <th>Seasons</th>\n",
       "      <th>Transportation expense</th>\n",
       "      <th>Distance from Residence to Work</th>\n",
       "      <th>Service time</th>\n",
       "      <th>Age</th>\n",
       "      <th>Work load Average/day</th>\n",
       "      <th>...</th>\n",
       "      <th>Education</th>\n",
       "      <th>Son</th>\n",
       "      <th>Social drinker</th>\n",
       "      <th>Social smoker</th>\n",
       "      <th>Pet</th>\n",
       "      <th>Weight</th>\n",
       "      <th>Height</th>\n",
       "      <th>Body mass index</th>\n",
       "      <th>Absenteeism time in hours</th>\n",
       "      <th>Group Hours</th>\n",
       "    </tr>\n",
       "  </thead>\n",
       "  <tbody>\n",
       "    <tr>\n",
       "      <th>0</th>\n",
       "      <td>11</td>\n",
       "      <td>26</td>\n",
       "      <td>7</td>\n",
       "      <td>3</td>\n",
       "      <td>1</td>\n",
       "      <td>289</td>\n",
       "      <td>36</td>\n",
       "      <td>13</td>\n",
       "      <td>33</td>\n",
       "      <td>239.554</td>\n",
       "      <td>...</td>\n",
       "      <td>1</td>\n",
       "      <td>2</td>\n",
       "      <td>1</td>\n",
       "      <td>0</td>\n",
       "      <td>1</td>\n",
       "      <td>90</td>\n",
       "      <td>172</td>\n",
       "      <td>30</td>\n",
       "      <td>4</td>\n",
       "      <td>medium</td>\n",
       "    </tr>\n",
       "    <tr>\n",
       "      <th>1</th>\n",
       "      <td>36</td>\n",
       "      <td>0</td>\n",
       "      <td>7</td>\n",
       "      <td>3</td>\n",
       "      <td>1</td>\n",
       "      <td>118</td>\n",
       "      <td>13</td>\n",
       "      <td>18</td>\n",
       "      <td>50</td>\n",
       "      <td>239.554</td>\n",
       "      <td>...</td>\n",
       "      <td>1</td>\n",
       "      <td>1</td>\n",
       "      <td>1</td>\n",
       "      <td>0</td>\n",
       "      <td>0</td>\n",
       "      <td>98</td>\n",
       "      <td>178</td>\n",
       "      <td>31</td>\n",
       "      <td>0</td>\n",
       "      <td>short</td>\n",
       "    </tr>\n",
       "    <tr>\n",
       "      <th>2</th>\n",
       "      <td>3</td>\n",
       "      <td>23</td>\n",
       "      <td>7</td>\n",
       "      <td>4</td>\n",
       "      <td>1</td>\n",
       "      <td>179</td>\n",
       "      <td>51</td>\n",
       "      <td>18</td>\n",
       "      <td>38</td>\n",
       "      <td>239.554</td>\n",
       "      <td>...</td>\n",
       "      <td>1</td>\n",
       "      <td>0</td>\n",
       "      <td>1</td>\n",
       "      <td>0</td>\n",
       "      <td>0</td>\n",
       "      <td>89</td>\n",
       "      <td>170</td>\n",
       "      <td>31</td>\n",
       "      <td>2</td>\n",
       "      <td>short</td>\n",
       "    </tr>\n",
       "    <tr>\n",
       "      <th>3</th>\n",
       "      <td>7</td>\n",
       "      <td>7</td>\n",
       "      <td>7</td>\n",
       "      <td>5</td>\n",
       "      <td>1</td>\n",
       "      <td>279</td>\n",
       "      <td>5</td>\n",
       "      <td>14</td>\n",
       "      <td>39</td>\n",
       "      <td>239.554</td>\n",
       "      <td>...</td>\n",
       "      <td>1</td>\n",
       "      <td>2</td>\n",
       "      <td>1</td>\n",
       "      <td>1</td>\n",
       "      <td>0</td>\n",
       "      <td>68</td>\n",
       "      <td>168</td>\n",
       "      <td>24</td>\n",
       "      <td>4</td>\n",
       "      <td>medium</td>\n",
       "    </tr>\n",
       "    <tr>\n",
       "      <th>4</th>\n",
       "      <td>11</td>\n",
       "      <td>23</td>\n",
       "      <td>7</td>\n",
       "      <td>5</td>\n",
       "      <td>1</td>\n",
       "      <td>289</td>\n",
       "      <td>36</td>\n",
       "      <td>13</td>\n",
       "      <td>33</td>\n",
       "      <td>239.554</td>\n",
       "      <td>...</td>\n",
       "      <td>1</td>\n",
       "      <td>2</td>\n",
       "      <td>1</td>\n",
       "      <td>0</td>\n",
       "      <td>1</td>\n",
       "      <td>90</td>\n",
       "      <td>172</td>\n",
       "      <td>30</td>\n",
       "      <td>2</td>\n",
       "      <td>short</td>\n",
       "    </tr>\n",
       "  </tbody>\n",
       "</table>\n",
       "<p>5 rows × 22 columns</p>\n",
       "</div>"
      ],
      "text/plain": [
       "   ID  Reason for absence  Month of absence  Day of the week  Seasons  \\\n",
       "0  11                  26                 7                3        1   \n",
       "1  36                   0                 7                3        1   \n",
       "2   3                  23                 7                4        1   \n",
       "3   7                   7                 7                5        1   \n",
       "4  11                  23                 7                5        1   \n",
       "\n",
       "   Transportation expense  Distance from Residence to Work  Service time  Age  \\\n",
       "0                     289                               36            13   33   \n",
       "1                     118                               13            18   50   \n",
       "2                     179                               51            18   38   \n",
       "3                     279                                5            14   39   \n",
       "4                     289                               36            13   33   \n",
       "\n",
       "   Work load Average/day   ...  Education  Son  Social drinker  Social smoker  \\\n",
       "0                 239.554  ...          1    2               1              0   \n",
       "1                 239.554  ...          1    1               1              0   \n",
       "2                 239.554  ...          1    0               1              0   \n",
       "3                 239.554  ...          1    2               1              1   \n",
       "4                 239.554  ...          1    2               1              0   \n",
       "\n",
       "   Pet  Weight  Height  Body mass index  Absenteeism time in hours  \\\n",
       "0    1      90     172               30                          4   \n",
       "1    0      98     178               31                          0   \n",
       "2    0      89     170               31                          2   \n",
       "3    0      68     168               24                          4   \n",
       "4    1      90     172               30                          2   \n",
       "\n",
       "   Group Hours  \n",
       "0       medium  \n",
       "1        short  \n",
       "2        short  \n",
       "3       medium  \n",
       "4        short  \n",
       "\n",
       "[5 rows x 22 columns]"
      ]
     },
     "execution_count": 4,
     "metadata": {},
     "output_type": "execute_result"
    }
   ],
   "source": [
    "group_hours = []\n",
    "for index, row in df.iterrows():\n",
    "    if row[\"Absenteeism time in hours\"] <= 2: group_hours.append(\"short\")\n",
    "    elif row[\"Absenteeism time in hours\"] <= 8: group_hours.append(\"medium\")\n",
    "    else: group_hours.append(\"long\")\n",
    "\n",
    "df[\"Group Hours\"] = group_hours\n",
    "df.head()"
   ]
  },
  {
   "cell_type": "code",
   "execution_count": 5,
   "id": "57bd0e31",
   "metadata": {},
   "outputs": [
    {
     "data": {
      "text/plain": [
       "1    611\n",
       "3     79\n",
       "2     46\n",
       "4      4\n",
       "Name: Education, dtype: int64"
      ]
     },
     "execution_count": 5,
     "metadata": {},
     "output_type": "execute_result"
    }
   ],
   "source": [
    "df[\"Education\"].value_counts()"
   ]
  },
  {
   "cell_type": "code",
   "execution_count": 6,
   "id": "8fbd4bd7",
   "metadata": {},
   "outputs": [],
   "source": [
    "education_col = []\n",
    "for i,r in df.iterrows():\n",
    "    if r[\"Education\"] == 1: education_col.append(\"High School\")\n",
    "    else: education_col.append(\"University\")\n",
    "\n",
    "df[\"Education\"] = education_col"
   ]
  },
  {
   "cell_type": "code",
   "execution_count": 7,
   "id": "f35a0ffe",
   "metadata": {},
   "outputs": [
    {
     "data": {
      "text/plain": [
       "High School    611\n",
       "University     129\n",
       "Name: Education, dtype: int64"
      ]
     },
     "execution_count": 7,
     "metadata": {},
     "output_type": "execute_result"
    }
   ],
   "source": [
    "df[\"Education\"].value_counts()"
   ]
  },
  {
   "cell_type": "code",
   "execution_count": 8,
   "id": "b519c761",
   "metadata": {},
   "outputs": [
    {
     "data": {
      "text/plain": [
       "(array([  6., 153.,  50.,  39., 189.,  51.,  42.,   7.,   1., 202.]),\n",
       " array([ 5. ,  9.7, 14.4, 19.1, 23.8, 28.5, 33.2, 37.9, 42.6, 47.3, 52. ]),\n",
       " <BarContainer object of 10 artists>)"
      ]
     },
     "execution_count": 8,
     "metadata": {},
     "output_type": "execute_result"
    },
    {
     "data": {
      "image/png": "[encoded data removed]",
      "text/plain": [
       "<Figure size 432x288 with 1 Axes>"
      ]
     },
     "metadata": {
      "needs_background": "light"
     },
     "output_type": "display_data"
    }
   ],
   "source": [
    "plt.hist(df[\"Distance from Residence to Work\"])"
   ]
  },
  {
   "cell_type": "code",
   "execution_count": 9,
   "id": "d7d488c3",
   "metadata": {},
   "outputs": [
    {
     "data": {
      "text/plain": [
       "mid      321\n",
       "far      210\n",
       "close    209\n",
       "Name: Distance from Residence to Work, dtype: int64"
      ]
     },
     "execution_count": 9,
     "metadata": {},
     "output_type": "execute_result"
    }
   ],
   "source": [
    "distance_col = []\n",
    "for i,r in df.iterrows():\n",
    "    if r[\"Distance from Residence to Work\"] < 20: distance_col.append(\"close\")\n",
    "    elif r[\"Distance from Residence to Work\"] < 40: distance_col.append(\"mid\")\n",
    "    else: distance_col.append(\"far\")\n",
    "    \n",
    "\n",
    "df[\"Distance from Residence to Work\"] = distance_col\n",
    "df[\"Distance from Residence to Work\"].value_counts()"
   ]
  },
  {
   "cell_type": "code",
   "execution_count": 10,
   "id": "fde362a2",
   "metadata": {},
   "outputs": [
    {
     "data": {
      "text/plain": [
       "(array([124.,   7.,  46.,  22.,  64.,  29.,   0.,  50., 191.,   8.,  58.,\n",
       "         34.,  24.,   0.,   0.,   2.,  30.,   5.,  37.,   0.,   1.,   0.,\n",
       "          0.,   0.,   8.]),\n",
       " array([27.  , 28.24, 29.48, 30.72, 31.96, 33.2 , 34.44, 35.68, 36.92,\n",
       "        38.16, 39.4 , 40.64, 41.88, 43.12, 44.36, 45.6 , 46.84, 48.08,\n",
       "        49.32, 50.56, 51.8 , 53.04, 54.28, 55.52, 56.76, 58.  ]),\n",
       " <BarContainer object of 25 artists>)"
      ]
     },
     "execution_count": 10,
     "metadata": {},
     "output_type": "execute_result"
    },
    {
     "data": {
      "image/png": "[encoded data removed]",
      "text/plain": [
       "<Figure size 432x288 with 1 Axes>"
      ]
     },
     "metadata": {
      "needs_background": "light"
     },
     "output_type": "display_data"
    }
   ],
   "source": [
    "plt.hist(df[\"Age\"], bins = 25)"
   ]
  },
  {
   "cell_type": "code",
   "execution_count": 11,
   "id": "2e2ef790",
   "metadata": {},
   "outputs": [
    {
     "data": {
      "text/plain": [
       "'\\nAge categories:\\nyoung = age < 35\\nadult = 35 <= age < 45\\nold = 45 <= age\\n'"
      ]
     },
     "execution_count": 11,
     "metadata": {},
     "output_type": "execute_result"
    }
   ],
   "source": [
    "'''\n",
    "Age categories:\n",
    "young = age < 35\n",
    "adult = 35 <= age < 45\n",
    "old = 45 <= age\n",
    "'''"
   ]
  },
  {
   "cell_type": "code",
   "execution_count": 12,
   "id": "06e28e1d",
   "metadata": {},
   "outputs": [
    {
     "data": {
      "text/plain": [
       "adult    365\n",
       "young    292\n",
       "old       83\n",
       "Name: Age, dtype: int64"
      ]
     },
     "execution_count": 12,
     "metadata": {},
     "output_type": "execute_result"
    }
   ],
   "source": [
    "age_col = []\n",
    "for i,r in df.iterrows():\n",
    "    if r[\"Age\"] < 35: age_col.append(\"young\")\n",
    "    elif r[\"Age\"] < 45: age_col.append(\"adult\")\n",
    "    else: age_col.append(\"old\")\n",
    "    \n",
    "\n",
    "df[\"Age\"] = age_col\n",
    "df[\"Age\"].value_counts()"
   ]
  },
  {
   "cell_type": "code",
   "execution_count": 13,
   "id": "f94c64ba",
   "metadata": {},
   "outputs": [
    {
     "data": {
      "text/plain": [
       "(array([460., 138.,  96.,   0.,   0.,  32.,   6.,   0.,   0.,   8.]),\n",
       " array([0. , 0.8, 1.6, 2.4, 3.2, 4. , 4.8, 5.6, 6.4, 7.2, 8. ]),\n",
       " <BarContainer object of 10 artists>)"
      ]
     },
     "execution_count": 13,
     "metadata": {},
     "output_type": "execute_result"
    },
    {
     "data": {
      "image/png": "[encoded data removed]",
      "text/plain": [
       "<Figure size 432x288 with 1 Axes>"
      ]
     },
     "metadata": {
      "needs_background": "light"
     },
     "output_type": "display_data"
    }
   ],
   "source": [
    "plt.hist(df[\"Pet\"])"
   ]
  },
  {
   "cell_type": "code",
   "execution_count": 14,
   "id": "5260d4b6",
   "metadata": {},
   "outputs": [
    {
     "data": {
      "text/plain": [
       "no       460\n",
       "few      234\n",
       "a lot     46\n",
       "Name: Pet, dtype: int64"
      ]
     },
     "execution_count": 14,
     "metadata": {},
     "output_type": "execute_result"
    }
   ],
   "source": [
    "pet_col = []\n",
    "for i,r in df.iterrows():\n",
    "    if r[\"Pet\"] <= 0: pet_col.append(\"no\")\n",
    "    elif r[\"Pet\"] <= 2: pet_col.append(\"few\")\n",
    "    else: pet_col.append(\"a lot\")\n",
    "    \n",
    "\n",
    "df[\"Pet\"] = pet_col\n",
    "df[\"Pet\"].value_counts()"
   ]
  },
  {
   "cell_type": "markdown",
   "id": "bf942a4a",
   "metadata": {},
   "source": [
    "## Auto ml"
   ]
  },
  {
   "cell_type": "code",
   "execution_count": 15,
   "id": "4c923bd9",
   "metadata": {},
   "outputs": [],
   "source": [
    "#df[\"Reason for absence\"]=df[\"Reason for absence\"].astype(\"category\")"
   ]
  },
  {
   "cell_type": "code",
   "execution_count": 16,
   "id": "2ef7817d",
   "metadata": {
    "scrolled": false
   },
   "outputs": [
    {
     "data": {
      "text/plain": [
       "'\\nignore = [\"ID\", \"Service time\",\"Weight\",\"Absenteeism time in hours\",\"Height\",\"Month of absence\"]\\nordinal= {\"Distance from Residence to Work\" : [\\'close\\', \\'mid\\', \\'far\\'],\"Age\":[\"young\",\"adult\",\"old\"]}\\nhigh_c = [\"Reason for absence\"]\\nnum = [\"Body mass index\"]\\nclf = setup(\\n        data=df, \\n        target=\"Group Hours\", \\n        ignore_features= ignore, \\n        ordinal_features = ordinal, \\n        high_cardinality_features = high_c,\\n        numeric_features = num\\n    )\\n'"
      ]
     },
     "execution_count": 16,
     "metadata": {},
     "output_type": "execute_result"
    }
   ],
   "source": [
    "'''\n",
    "ignore = [\"ID\", \"Service time\",\"Weight\",\"Absenteeism time in hours\",\"Height\",\"Month of absence\"]\n",
    "ordinal= {\"Distance from Residence to Work\" : ['close', 'mid', 'far'],\"Age\":[\"young\",\"adult\",\"old\"]}\n",
    "high_c = [\"Reason for absence\"]\n",
    "num = [\"Body mass index\"]\n",
    "clf = setup(\n",
    "        data=df, \n",
    "        target=\"Group Hours\", \n",
    "        ignore_features= ignore, \n",
    "        ordinal_features = ordinal, \n",
    "        high_cardinality_features = high_c,\n",
    "        numeric_features = num\n",
    "    )\n",
    "'''"
   ]
  },
  {
   "cell_type": "code",
   "execution_count": 17,
   "id": "250d6be4",
   "metadata": {
    "scrolled": false
   },
   "outputs": [],
   "source": [
    "#compare_models()"
   ]
  },
  {
   "cell_type": "markdown",
   "id": "e4034759",
   "metadata": {},
   "source": [
    "## Classification"
   ]
  },
  {
   "cell_type": "code",
   "execution_count": 18,
   "id": "2c4105a2",
   "metadata": {},
   "outputs": [],
   "source": [
    "#Classification Algorithms\n",
    "from sklearn.neighbors import KNeighborsClassifier\n",
    "from sklearn.tree import DecisionTreeClassifier\n",
    "from sklearn.ensemble import RandomForestClassifier,GradientBoostingClassifier\n",
    "from sklearn.naive_bayes import GaussianNB\n",
    "from sklearn.svm import SVC\n",
    "from lightgbm import LGBMClassifier"
   ]
  },
  {
   "cell_type": "code",
   "execution_count": 19,
   "id": "f0f2e1f2",
   "metadata": {},
   "outputs": [],
   "source": [
    "from sklearn.metrics import accuracy_score\n",
    "from sklearn.model_selection import train_test_split"
   ]
  },
  {
   "cell_type": "code",
   "execution_count": 20,
   "id": "699f8009",
   "metadata": {},
   "outputs": [
    {
     "data": {
      "text/html": [
       "<div>\n",
       "<style scoped>\n",
       "    .dataframe tbody tr th:only-of-type {\n",
       "        vertical-align: middle;\n",
       "    }\n",
       "\n",
       "    .dataframe tbody tr th {\n",
       "        vertical-align: top;\n",
       "    }\n",
       "\n",
       "    .dataframe thead th {\n",
       "        text-align: right;\n",
       "    }\n",
       "</style>\n",
       "<table border=\"1\" class=\"dataframe\">\n",
       "  <thead>\n",
       "    <tr style=\"text-align: right;\">\n",
       "      <th></th>\n",
       "      <th>ID</th>\n",
       "      <th>Reason for absence</th>\n",
       "      <th>Month of absence</th>\n",
       "      <th>Day of the week</th>\n",
       "      <th>Transportation expense</th>\n",
       "      <th>Service time</th>\n",
       "      <th>Work load Average/day</th>\n",
       "      <th>Hit target</th>\n",
       "      <th>Disciplinary failure</th>\n",
       "      <th>Social drinker</th>\n",
       "      <th>...</th>\n",
       "      <th>Seasons_4</th>\n",
       "      <th>Distance from Residence to Work_far</th>\n",
       "      <th>Distance from Residence to Work_mid</th>\n",
       "      <th>Education_University</th>\n",
       "      <th>Son_1</th>\n",
       "      <th>Son_2</th>\n",
       "      <th>Son_3</th>\n",
       "      <th>Son_4</th>\n",
       "      <th>Pet_few</th>\n",
       "      <th>Pet_no</th>\n",
       "    </tr>\n",
       "  </thead>\n",
       "  <tbody>\n",
       "    <tr>\n",
       "      <th>0</th>\n",
       "      <td>11</td>\n",
       "      <td>26</td>\n",
       "      <td>7</td>\n",
       "      <td>3</td>\n",
       "      <td>289</td>\n",
       "      <td>13</td>\n",
       "      <td>239.554</td>\n",
       "      <td>97</td>\n",
       "      <td>0</td>\n",
       "      <td>1</td>\n",
       "      <td>...</td>\n",
       "      <td>0</td>\n",
       "      <td>0</td>\n",
       "      <td>1</td>\n",
       "      <td>0</td>\n",
       "      <td>0</td>\n",
       "      <td>1</td>\n",
       "      <td>0</td>\n",
       "      <td>0</td>\n",
       "      <td>1</td>\n",
       "      <td>0</td>\n",
       "    </tr>\n",
       "    <tr>\n",
       "      <th>1</th>\n",
       "      <td>36</td>\n",
       "      <td>0</td>\n",
       "      <td>7</td>\n",
       "      <td>3</td>\n",
       "      <td>118</td>\n",
       "      <td>18</td>\n",
       "      <td>239.554</td>\n",
       "      <td>97</td>\n",
       "      <td>1</td>\n",
       "      <td>1</td>\n",
       "      <td>...</td>\n",
       "      <td>0</td>\n",
       "      <td>0</td>\n",
       "      <td>0</td>\n",
       "      <td>0</td>\n",
       "      <td>1</td>\n",
       "      <td>0</td>\n",
       "      <td>0</td>\n",
       "      <td>0</td>\n",
       "      <td>0</td>\n",
       "      <td>1</td>\n",
       "    </tr>\n",
       "  </tbody>\n",
       "</table>\n",
       "<p>2 rows × 30 columns</p>\n",
       "</div>"
      ],
      "text/plain": [
       "   ID  Reason for absence  Month of absence  Day of the week  \\\n",
       "0  11                  26                 7                3   \n",
       "1  36                   0                 7                3   \n",
       "\n",
       "   Transportation expense  Service time  Work load Average/day   Hit target  \\\n",
       "0                     289            13                 239.554          97   \n",
       "1                     118            18                 239.554          97   \n",
       "\n",
       "   Disciplinary failure  Social drinker  ...  Seasons_4  \\\n",
       "0                     0               1  ...          0   \n",
       "1                     1               1  ...          0   \n",
       "\n",
       "   Distance from Residence to Work_far  Distance from Residence to Work_mid  \\\n",
       "0                                    0                                    1   \n",
       "1                                    0                                    0   \n",
       "\n",
       "   Education_University  Son_1 Son_2  Son_3  Son_4  Pet_few  Pet_no  \n",
       "0                     0      0     1      0      0        1       0  \n",
       "1                     0      1     0      0      0        0       1  \n",
       "\n",
       "[2 rows x 30 columns]"
      ]
     },
     "execution_count": 20,
     "metadata": {},
     "output_type": "execute_result"
    }
   ],
   "source": [
    "dummies_cols = [\"Age\",\"Seasons\",\"Distance from Residence to Work\",\"Education\",\"Son\",\"Pet\"]\n",
    "df = pd.get_dummies(df,columns= dummies_cols,drop_first=True)\n",
    "df.head(2)"
   ]
  },
  {
   "cell_type": "code",
   "execution_count": 22,
   "id": "25288b34",
   "metadata": {},
   "outputs": [],
   "source": [
    "from sklearn.preprocessing import StandardScaler"
   ]
  },
  {
   "cell_type": "code",
   "execution_count": 23,
   "id": "b51f54c8",
   "metadata": {},
   "outputs": [],
   "source": [
    "def classification_accuracy_means(X, y, iterations = 10):\n",
    "    acc_KN = 0\n",
    "    acc_DT = 0\n",
    "    acc_RF = 0\n",
    "    acc_NB = 0\n",
    "    acc_SVC = 0\n",
    "    acc_LGBM = 0\n",
    "    acc_GBC = 0\n",
    "    \n",
    "    for i in range(iterations):\n",
    "        print(i)\n",
    "        #Train/test split\n",
    "        X_train, X_test, y_train, y_test = train_test_split(X, y, test_size=0.2, random_state=40)\n",
    "\n",
    "        #Scaling\n",
    "        scaler = StandardScaler()\n",
    "        X_train = scaler.fit_transform(X_train)\n",
    "        X_test = scaler.transform(X_test)\n",
    "    \n",
    "        #KNeighbors\n",
    "        clf = KNeighborsClassifier()\n",
    "        clf.fit(X_train, y_train)\n",
    "        y_pred = clf.predict(X_test)\n",
    "        acc_KN += accuracy_score(y_test, y_pred)\n",
    "        \n",
    "        #DecisionTree\n",
    "        clf = DecisionTreeClassifier()\n",
    "        clf.fit(X_train, y_train)\n",
    "        y_pred = clf.predict(X_test)\n",
    "        acc_DT += accuracy_score(y_test, y_pred)\n",
    "        \n",
    "        #RandomForest\n",
    "        clf = RandomForestClassifier()\n",
    "        clf.fit(X_train, y_train)\n",
    "        y_pred = clf.predict(X_test)\n",
    "        acc_RF += accuracy_score(y_test, y_pred)\n",
    "        \n",
    "        #Gaussian Naives Bayes\n",
    "        clf = GaussianNB()\n",
    "        clf.fit(X_train, y_train)\n",
    "        y_pred = clf.predict(X_test)\n",
    "        acc_NB += accuracy_score(y_test, y_pred)\n",
    "        \n",
    "        #Support vector machine\n",
    "        clf = SVC()\n",
    "        clf.fit(X_train, y_train)\n",
    "        y_pred = clf.predict(X_test)\n",
    "        acc_SVC += accuracy_score(y_test, y_pred)\n",
    "        \n",
    "        #LightGBM\n",
    "        clf = LGBMClassifier()\n",
    "        clf.fit(X_train, y_train)\n",
    "        y_pred = clf.predict(X_test)\n",
    "        acc_LGBM += accuracy_score(y_test, y_pred)\n",
    "        \n",
    "        #GradientBoostingClassifier\n",
    "        clf = GradientBoostingClassifier()\n",
    "        clf.fit(X_train, y_train)\n",
    "        y_pred = clf.predict(X_test)\n",
    "        acc_GBC += accuracy_score(y_test, y_pred)\n",
    "        clear_output()\n",
    "        \n",
    "    \n",
    "    acc_KN /= iterations\n",
    "    acc_DT /= iterations\n",
    "    acc_RF /= iterations\n",
    "    acc_NB /= iterations\n",
    "    acc_SVC /= iterations\n",
    "    acc_LGBM /= iterations\n",
    "    acc_GBC /= iterations\n",
    "    \n",
    "    print(f\"Mean accuracy scores in {iterations} iterations:\")\n",
    "    print(f\"K Neighbors: {round(acc_KN,2)}\")\n",
    "    print(f\"Decision Tree: {round(acc_DT,2)}\")\n",
    "    print(f\"Random forest: {round(acc_RF,2)}\")\n",
    "    print(f\"Gaussian Naives Bayes: {round(acc_NB,2)}\")\n",
    "    print(f\"Support Vector Machine: {round(acc_SVC,2)}\")\n",
    "    print(f\"Light GBM: {round(acc_LGBM,2)}\")\n",
    "    print(f\"Gradient Boosting: {round(acc_GBC,2)}\")"
   ]
  },
  {
   "cell_type": "code",
   "execution_count": 21,
   "id": "57a73835",
   "metadata": {},
   "outputs": [],
   "source": [
    "ignored_cols = [\"ID\",\"Month of absence\",\"Service time\",\"Weight\",\"Height\",\"Absenteeism time in hours\",\"Group Hours\"]\n",
    "X = df.drop(ignored_cols,axis = 1)\n",
    "y = df[\"Group Hours\"]\n",
    "\n",
    "\n"
   ]
  },
  {
   "cell_type": "code",
   "execution_count": 24,
   "id": "38236947",
   "metadata": {},
   "outputs": [
    {
     "name": "stdout",
     "output_type": "stream",
     "text": [
      "Mean accuracy scores in 20 iterations:\n",
      "K Neighbors: 0.63\n",
      "Decision Tree: 0.67\n",
      "Random forest: 0.72\n",
      "Gaussian Naives Bayes: 0.59\n",
      "Support Vector Machine: 0.66\n",
      "Light GBM: 0.74\n",
      "Gradient Boosting: 0.76\n"
     ]
    }
   ],
   "source": [
    "classification_accuracy_means(X,y,20)"
   ]
  },
  {
   "cell_type": "markdown",
   "id": "26118a4d",
   "metadata": {},
   "source": [
    "## Regression"
   ]
  },
  {
   "cell_type": "code",
   "execution_count": 25,
   "id": "cdd4b220",
   "metadata": {},
   "outputs": [],
   "source": [
    "#Regression algorithms\n",
    "from sklearn.linear_model import LogisticRegression, LinearRegression\n",
    "from sklearn.svm import SVR\n",
    "from sklearn.tree import DecisionTreeRegressor\n",
    "from sklearn.ensemble import RandomForestRegressor"
   ]
  },
  {
   "cell_type": "code",
   "execution_count": 26,
   "id": "aaddf4a1",
   "metadata": {},
   "outputs": [],
   "source": [
    "import sklearn.metrics as sm"
   ]
  },
  {
   "cell_type": "code",
   "execution_count": 27,
   "id": "9f588448",
   "metadata": {},
   "outputs": [],
   "source": [
    "def regression_r2_means(X, y, iterations = 10):\n",
    "    r2_LinR = 0\n",
    "    r2_LogR = 0\n",
    "    r2_SVR = 0\n",
    "    r2_DTR = 0\n",
    "    r2_RFR = 0\n",
    "    \n",
    "    for i in range(iterations):\n",
    "        print(i)\n",
    "        #Train/test split\n",
    "        X_train, X_test, y_train, y_test = train_test_split(X, y, test_size=0.2, random_state=40)\n",
    "\n",
    "        #Scaling\n",
    "        scaler = StandardScaler()\n",
    "        X_train = scaler.fit_transform(X_train)\n",
    "        X_test = scaler.transform(X_test)\n",
    "    \n",
    "        #Linear Regression\n",
    "        reg = LinearRegression()\n",
    "        reg.fit(X_train,y_train)\n",
    "        y_pred = reg.predict(X_test)\n",
    "        r2_LinR += sm.r2_score(y_test, y_pred)\n",
    "        \n",
    "        #Logistic Regression\n",
    "        reg = LogisticRegression()\n",
    "        reg.fit(X_train,y_train)\n",
    "        y_pred = reg.predict(X_test)\n",
    "        r2_LogR += sm.r2_score(y_test, y_pred)\n",
    "        \n",
    "        #Support Vector Machine\n",
    "        reg = SVR()\n",
    "        reg.fit(X_train,y_train)\n",
    "        y_pred = reg.predict(X_test)\n",
    "        r2_SVR += sm.r2_score(y_test, y_pred)\n",
    "        \n",
    "        #Decision tree\n",
    "        reg = DecisionTreeRegressor()\n",
    "        reg.fit(X_train,y_train)\n",
    "        y_pred = reg.predict(X_test)\n",
    "        r2_DTR += sm.r2_score(y_test, y_pred)\n",
    "        \n",
    "        #Random forest\n",
    "        reg = RandomForestRegressor()\n",
    "        reg.fit(X_train,y_train)\n",
    "        y_pred = reg.predict(X_test)\n",
    "        r2_RFR += sm.r2_score(y_test, y_pred)\n",
    "        \n",
    "        \n",
    "        #clear_output()\n",
    "        \n",
    "    \n",
    "    r2_LinR /= iterations\n",
    "    r2_LogR /= iterations\n",
    "    r2_SVR /= iterations\n",
    "    r2_DTR /= iterations\n",
    "    r2_RFR /= iterations\n",
    "    \n",
    "    print(f\"Mean R2 scores in {iterations} iterations:\")\n",
    "    print(f\"Linear Regression: {round(r2_LinR,2)}\")\n",
    "    print(f\"Logistic Regression: {round(r2_LogR,2)}\")\n",
    "    print(f\"Support Vector Machine: {round(r2_SVR,2)}\")\n",
    "    print(f\"Decision Tree: {round(r2_DTR,2)}\")\n",
    "    print(f\"Random forest: {round(r2_RFR,2)}\")"
   ]
  },
  {
   "cell_type": "code",
   "execution_count": 28,
   "id": "50095d43",
   "metadata": {},
   "outputs": [],
   "source": [
    "y = df[\"Absenteeism time in hours\"]"
   ]
  },
  {
   "cell_type": "code",
   "execution_count": 29,
   "id": "f2849190",
   "metadata": {},
   "outputs": [
    {
     "name": "stdout",
     "output_type": "stream",
     "text": [
      "0\n"
     ]
    },
    {
     "name": "stderr",
     "output_type": "stream",
     "text": [
      "c:\\users\\usuario\\appdata\\local\\programs\\python\\python38\\lib\\site-packages\\sklearn\\linear_model\\_logistic.py:762: ConvergenceWarning: lbfgs failed to converge (status=1):\n",
      "STOP: TOTAL NO. of ITERATIONS REACHED LIMIT.\n",
      "\n",
      "Increase the number of iterations (max_iter) or scale the data as shown in:\n",
      "    https://scikit-learn.org/stable/modules/preprocessing.html\n",
      "Please also refer to the documentation for alternative solver options:\n",
      "    https://scikit-learn.org/stable/modules/linear_model.html#logistic-regression\n",
      "  n_iter_i = _check_optimize_result(\n"
     ]
    },
    {
     "name": "stdout",
     "output_type": "stream",
     "text": [
      "Mean R2 scores in 1 iterations:\n",
      "Linear Regression: -0.26\n",
      "Logistic Regression: -3.62\n",
      "Support Vector Machine: 0.1\n",
      "Decision Tree: -3.55\n",
      "Random forest: -1.26\n"
     ]
    }
   ],
   "source": [
    "regression_r2_means(X,y,1)"
   ]
  },
  {
   "cell_type": "code",
   "execution_count": null,
   "id": "5025ae0b",
   "metadata": {},
   "outputs": [],
   "source": []
  }
 ],
 "metadata": {
  "kernelspec": {
   "display_name": "Python 3 (ipykernel)",
   "language": "python",
   "name": "python3"
  },
  "language_info": {
   "codemirror_mode": {
    "name": "ipython",
    "version": 3
   },
   "file_extension": ".py",
   "mimetype": "text/x-python",
   "name": "python",
   "nbconvert_exporter": "python",
   "pygments_lexer": "ipython3",
   "version": "3.8.10"
  }
 },
 "nbformat": 4,
 "nbformat_minor": 5
}
